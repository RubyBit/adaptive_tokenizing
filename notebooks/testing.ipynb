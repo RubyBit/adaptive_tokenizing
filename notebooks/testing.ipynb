{
 "cells": [
  {
   "cell_type": "code",
   "execution_count": 2,
   "metadata": {
    "collapsed": true,
    "ExecuteTime": {
     "end_time": "2024-06-04T09:19:04.097096800Z",
     "start_time": "2024-06-04T09:18:49.291874200Z"
    }
   },
   "outputs": [
    {
     "name": "stdout",
     "output_type": "stream",
     "text": [
      "Requirement already satisfied: pyarrow in d:\\statistics\\stats_py\\lib\\site-packages (14.0.2)\n",
      "Collecting pyarrow\n",
      "  Using cached pyarrow-16.1.0-cp310-cp310-win_amd64.whl.metadata (3.1 kB)\n",
      "Requirement already satisfied: numpy>=1.16.6 in d:\\statistics\\stats_py\\lib\\site-packages (from pyarrow) (1.26.3)\n",
      "Using cached pyarrow-16.1.0-cp310-cp310-win_amd64.whl (25.9 MB)\n",
      "Installing collected packages: pyarrow\n",
      "  Attempting uninstall: pyarrow\n",
      "    Found existing installation: pyarrow 14.0.2\n",
      "    Uninstalling pyarrow-14.0.2:\n",
      "      Successfully uninstalled pyarrow-14.0.2\n",
      "Successfully installed pyarrow-15.0.0\n"
     ]
    }
   ],
   "source": [
    "# upgrade pyarrow\n",
    "!pip install --upgrade pyarrow"
   ]
  },
  {
   "cell_type": "code",
   "execution_count": 2,
   "outputs": [
    {
     "name": "stdout",
     "output_type": "stream",
     "text": [
      "Requirement already satisfied: datasets in d:\\statistics\\stats_py\\lib\\site-packages (2.12.0)\n",
      "Collecting datasets\n",
      "  Downloading datasets-2.18.0-py3-none-any.whl.metadata (20 kB)\n",
      "Requirement already satisfied: filelock in d:\\statistics\\stats_py\\lib\\site-packages (from datasets) (3.13.1)\n",
      "Requirement already satisfied: numpy>=1.17 in d:\\statistics\\stats_py\\lib\\site-packages (from datasets) (1.26.3)\n",
      "Requirement already satisfied: pyarrow>=12.0.0 in d:\\statistics\\stats_py\\lib\\site-packages (from datasets) (15.0.0)\n",
      "Requirement already satisfied: pyarrow-hotfix in d:\\statistics\\stats_py\\lib\\site-packages (from datasets) (0.6)\n",
      "Requirement already satisfied: dill<0.3.9,>=0.3.0 in d:\\statistics\\stats_py\\lib\\site-packages (from datasets) (0.3.6)\n",
      "Requirement already satisfied: pandas in d:\\statistics\\stats_py\\lib\\site-packages (from datasets) (2.1.4)\n",
      "Requirement already satisfied: requests>=2.19.0 in d:\\statistics\\stats_py\\lib\\site-packages (from datasets) (2.28.1)\n",
      "Requirement already satisfied: tqdm>=4.62.1 in d:\\statistics\\stats_py\\lib\\site-packages (from datasets) (4.65.0)\n",
      "Requirement already satisfied: xxhash in d:\\statistics\\stats_py\\lib\\site-packages (from datasets) (2.0.2)\n",
      "Requirement already satisfied: multiprocess in d:\\statistics\\stats_py\\lib\\site-packages (from datasets) (0.70.14)\n",
      "Requirement already satisfied: fsspec<=2024.2.0,>=2023.1.0 in d:\\statistics\\stats_py\\lib\\site-packages (from fsspec[http]<=2024.2.0,>=2023.1.0->datasets) (2023.10.0)\n",
      "Requirement already satisfied: aiohttp in d:\\statistics\\stats_py\\lib\\site-packages (from datasets) (3.9.0)\n",
      "Requirement already satisfied: huggingface-hub>=0.19.4 in d:\\statistics\\stats_py\\lib\\site-packages (from datasets) (0.20.3)\n",
      "Requirement already satisfied: packaging in d:\\statistics\\stats_py\\lib\\site-packages (from datasets) (23.1)\n",
      "Requirement already satisfied: pyyaml>=5.1 in d:\\statistics\\stats_py\\lib\\site-packages (from datasets) (6.0.1)\n",
      "Requirement already satisfied: attrs>=17.3.0 in d:\\statistics\\stats_py\\lib\\site-packages (from aiohttp->datasets) (23.1.0)\n",
      "Requirement already satisfied: multidict<7.0,>=4.5 in d:\\statistics\\stats_py\\lib\\site-packages (from aiohttp->datasets) (6.0.4)\n",
      "Requirement already satisfied: yarl<2.0,>=1.0 in d:\\statistics\\stats_py\\lib\\site-packages (from aiohttp->datasets) (1.9.3)\n",
      "Requirement already satisfied: frozenlist>=1.1.1 in d:\\statistics\\stats_py\\lib\\site-packages (from aiohttp->datasets) (1.4.0)\n",
      "Requirement already satisfied: aiosignal>=1.1.2 in d:\\statistics\\stats_py\\lib\\site-packages (from aiohttp->datasets) (1.2.0)\n",
      "Requirement already satisfied: async-timeout<5.0,>=4.0 in d:\\statistics\\stats_py\\lib\\site-packages (from aiohttp->datasets) (4.0.3)\n",
      "Requirement already satisfied: typing-extensions>=3.7.4.3 in d:\\statistics\\stats_py\\lib\\site-packages (from huggingface-hub>=0.19.4->datasets) (4.8.0)\n",
      "Requirement already satisfied: charset-normalizer<3,>=2 in d:\\statistics\\stats_py\\lib\\site-packages (from requests>=2.19.0->datasets) (2.0.4)\n",
      "Requirement already satisfied: idna<4,>=2.5 in d:\\statistics\\stats_py\\lib\\site-packages (from requests>=2.19.0->datasets) (3.4)\n",
      "Requirement already satisfied: urllib3<1.27,>=1.21.1 in d:\\statistics\\stats_py\\lib\\site-packages (from requests>=2.19.0->datasets) (1.26.13)\n",
      "Requirement already satisfied: certifi>=2017.4.17 in d:\\statistics\\stats_py\\lib\\site-packages (from requests>=2.19.0->datasets) (2022.12.7)\n",
      "Requirement already satisfied: colorama in d:\\statistics\\stats_py\\lib\\site-packages (from tqdm>=4.62.1->datasets) (0.4.6)\n",
      "Requirement already satisfied: python-dateutil>=2.8.2 in d:\\statistics\\stats_py\\lib\\site-packages (from pandas->datasets) (2.8.2)\n",
      "Requirement already satisfied: pytz>=2020.1 in d:\\statistics\\stats_py\\lib\\site-packages (from pandas->datasets) (2023.3.post1)\n",
      "Requirement already satisfied: tzdata>=2022.1 in d:\\statistics\\stats_py\\lib\\site-packages (from pandas->datasets) (2023.3)\n",
      "Requirement already satisfied: six>=1.5 in d:\\statistics\\stats_py\\lib\\site-packages (from python-dateutil>=2.8.2->pandas->datasets) (1.16.0)\n",
      "Downloading datasets-2.18.0-py3-none-any.whl (510 kB)\n",
      "   ---------------------------------------- 0.0/510.5 kB ? eta -:--:--\n",
      "    --------------------------------------- 10.2/510.5 kB ? eta -:--:--\n",
      "   --- ----------------------------------- 41.0/510.5 kB 653.6 kB/s eta 0:00:01\n",
      "   -------------------------------- ------- 419.8/510.5 kB 4.4 MB/s eta 0:00:01\n",
      "   ---------------------------------------- 510.5/510.5 kB 4.0 MB/s eta 0:00:00\n",
      "Installing collected packages: datasets\n",
      "  Attempting uninstall: datasets\n",
      "    Found existing installation: datasets 2.12.0\n",
      "    Uninstalling datasets-2.12.0:\n",
      "      Successfully uninstalled datasets-2.12.0\n",
      "Successfully installed datasets-2.17.0\n"
     ]
    }
   ],
   "source": [
    "# upgrade datasets\n",
    "!pip install --upgrade datasets"
   ],
   "metadata": {
    "collapsed": false,
    "ExecuteTime": {
     "end_time": "2024-04-01T12:52:24.446947300Z",
     "start_time": "2024-04-01T12:52:12.481548900Z"
    }
   }
  },
  {
   "cell_type": "code",
   "execution_count": 1,
   "outputs": [
    {
     "name": "stderr",
     "output_type": "stream",
     "text": [
      "ERROR: Could not find a version that satisfies the requirement absl (from versions: none)\n",
      "ERROR: No matching distribution found for absl\n"
     ]
    },
    {
     "name": "stdout",
     "output_type": "stream",
     "text": [
      "Collecting nltk\n",
      "  Downloading nltk-3.8.1-py3-none-any.whl.metadata (2.8 kB)\n",
      "Collecting click (from nltk)\n",
      "  Downloading click-8.1.7-py3-none-any.whl.metadata (3.0 kB)\n",
      "Requirement already satisfied: joblib in d:\\statistics\\stats_py\\lib\\site-packages (from nltk) (1.3.2)\n",
      "Requirement already satisfied: regex>=2021.8.3 in d:\\statistics\\stats_py\\lib\\site-packages (from nltk) (2023.10.3)\n",
      "Requirement already satisfied: tqdm in d:\\statistics\\stats_py\\lib\\site-packages (from nltk) (4.65.0)\n",
      "Requirement already satisfied: colorama in d:\\statistics\\stats_py\\lib\\site-packages (from click->nltk) (0.4.6)\n",
      "Downloading nltk-3.8.1-py3-none-any.whl (1.5 MB)\n",
      "   ---------------------------------------- 0.0/1.5 MB ? eta -:--:--\n",
      "   ---------------------------------------- 0.0/1.5 MB ? eta -:--:--\n",
      "    --------------------------------------- 0.0/1.5 MB 640.0 kB/s eta 0:00:03\n",
      "   ----- ---------------------------------- 0.2/1.5 MB 2.5 MB/s eta 0:00:01\n",
      "   ---------------------------------- ----- 1.3/1.5 MB 9.2 MB/s eta 0:00:01\n",
      "   ---------------------------------------- 1.5/1.5 MB 8.7 MB/s eta 0:00:00\n",
      "Downloading click-8.1.7-py3-none-any.whl (97 kB)\n",
      "   ---------------------------------------- 0.0/97.9 kB ? eta -:--:--\n",
      "   ---------------------------------------- 97.9/97.9 kB 5.8 MB/s eta 0:00:00\n",
      "Installing collected packages: click, nltk\n",
      "Successfully installed click-8.1.7 nltk-3.8.1\n",
      "Collecting rouge_score\n",
      "  Downloading rouge_score-0.1.2.tar.gz (17 kB)\n",
      "  Preparing metadata (setup.py): started\n",
      "  Preparing metadata (setup.py): finished with status 'done'\n",
      "Collecting absl-py (from rouge_score)\n",
      "  Downloading absl_py-2.1.0-py3-none-any.whl.metadata (2.3 kB)\n",
      "Requirement already satisfied: nltk in d:\\statistics\\stats_py\\lib\\site-packages (from rouge_score) (3.8.1)\n",
      "Requirement already satisfied: numpy in d:\\statistics\\stats_py\\lib\\site-packages (from rouge_score) (1.26.3)\n",
      "Requirement already satisfied: six>=1.14.0 in d:\\statistics\\stats_py\\lib\\site-packages (from rouge_score) (1.16.0)\n",
      "Requirement already satisfied: click in d:\\statistics\\stats_py\\lib\\site-packages (from nltk->rouge_score) (8.1.7)\n",
      "Requirement already satisfied: joblib in d:\\statistics\\stats_py\\lib\\site-packages (from nltk->rouge_score) (1.3.2)\n",
      "Requirement already satisfied: regex>=2021.8.3 in d:\\statistics\\stats_py\\lib\\site-packages (from nltk->rouge_score) (2023.10.3)\n",
      "Requirement already satisfied: tqdm in d:\\statistics\\stats_py\\lib\\site-packages (from nltk->rouge_score) (4.65.0)\n",
      "Requirement already satisfied: colorama in d:\\statistics\\stats_py\\lib\\site-packages (from click->nltk->rouge_score) (0.4.6)\n",
      "Downloading absl_py-2.1.0-py3-none-any.whl (133 kB)\n",
      "   ---------------------------------------- 0.0/133.7 kB ? eta -:--:--\n",
      "   --- ------------------------------------ 10.2/133.7 kB ? eta -:--:--\n",
      "   ---------------------------------------  133.1/133.7 kB 2.0 MB/s eta 0:00:01\n",
      "   ---------------------------------------- 133.7/133.7 kB 1.6 MB/s eta 0:00:00\n",
      "Building wheels for collected packages: rouge_score\n",
      "  Building wheel for rouge_score (setup.py): started\n",
      "  Building wheel for rouge_score (setup.py): finished with status 'done'\n",
      "  Created wheel for rouge_score: filename=rouge_score-0.1.2-py3-none-any.whl size=24970 sha256=2cf07a030ad2b60db6b6bc656d9ee5c2dcb49c1620a0814ced84443a7c73b5fe\n",
      "  Stored in directory: c:\\users\\nikos\\appdata\\local\\pip\\cache\\wheels\\5f\\dd\\89\\461065a73be61a532ff8599a28e9beef17985c9e9c31e541b4\n",
      "Successfully built rouge_score\n",
      "Installing collected packages: absl-py, rouge_score\n",
      "Successfully installed absl-py-2.1.0 rouge_score-0.1.2\n"
     ]
    }
   ],
   "source": [
    "!pip install absl\n",
    "!pip install nltk\n",
    "!pip install rouge_score"
   ],
   "metadata": {
    "collapsed": false,
    "ExecuteTime": {
     "end_time": "2024-04-22T21:43:16.102610600Z",
     "start_time": "2024-04-22T21:42:51.840049800Z"
    }
   }
  },
  {
   "cell_type": "code",
   "execution_count": 3,
   "outputs": [
    {
     "name": "stdout",
     "output_type": "stream",
     "text": [
      "Collecting en-core-web-sm==3.7.1\n",
      "  Downloading https://github.com/explosion/spacy-models/releases/download/en_core_web_sm-3.7.1/en_core_web_sm-3.7.1-py3-none-any.whl (12.8 MB)\n",
      "     ---------------------------------------- 0.0/12.8 MB ? eta -:--:--\n",
      "     ---------------------------------------- 0.0/12.8 MB ? eta -:--:--\n",
      "     ---------------------------------------- 0.0/12.8 MB ? eta -:--:--\n",
      "     --------------------------------------- 0.0/12.8 MB 330.3 kB/s eta 0:00:39\n",
      "     --------------------------------------- 0.1/12.8 MB 901.1 kB/s eta 0:00:15\n",
      "     --- ------------------------------------ 1.2/12.8 MB 6.8 MB/s eta 0:00:02\n",
      "     ---- ----------------------------------- 1.6/12.8 MB 7.8 MB/s eta 0:00:02\n",
      "     -------- ------------------------------- 2.8/12.8 MB 10.1 MB/s eta 0:00:01\n",
      "     --------- ------------------------------ 3.2/12.8 MB 9.6 MB/s eta 0:00:02\n",
      "     ---------- ----------------------------- 3.3/12.8 MB 10.0 MB/s eta 0:00:01\n",
      "     ---------- ----------------------------- 3.3/12.8 MB 10.0 MB/s eta 0:00:01\n",
      "     ------------ --------------------------- 3.9/12.8 MB 8.3 MB/s eta 0:00:02\n",
      "     ------------- -------------------------- 4.5/12.8 MB 8.9 MB/s eta 0:00:01\n",
      "     -------------- ------------------------- 4.8/12.8 MB 8.7 MB/s eta 0:00:01\n",
      "     --------------- ------------------------ 5.1/12.8 MB 8.6 MB/s eta 0:00:01\n",
      "     ---------------- ----------------------- 5.4/12.8 MB 8.4 MB/s eta 0:00:01\n",
      "     ----------------- ---------------------- 5.7/12.8 MB 8.3 MB/s eta 0:00:01\n",
      "     ------------------ --------------------- 6.1/12.8 MB 8.2 MB/s eta 0:00:01\n",
      "     ------------------- -------------------- 6.3/12.8 MB 8.1 MB/s eta 0:00:01\n",
      "     -------------------- ------------------- 6.7/12.8 MB 8.1 MB/s eta 0:00:01\n",
      "     --------------------- ------------------ 7.0/12.8 MB 8.0 MB/s eta 0:00:01\n",
      "     ---------------------- ----------------- 7.3/12.8 MB 7.9 MB/s eta 0:00:01\n",
      "     ----------------------- ---------------- 7.6/12.8 MB 7.9 MB/s eta 0:00:01\n",
      "     ------------------------ --------------- 8.0/12.8 MB 7.8 MB/s eta 0:00:01\n",
      "     ------------------------- -------------- 8.3/12.8 MB 7.8 MB/s eta 0:00:01\n",
      "     -------------------------- ------------- 8.6/12.8 MB 7.8 MB/s eta 0:00:01\n",
      "     --------------------------- ------------ 8.9/12.8 MB 7.7 MB/s eta 0:00:01\n",
      "     ---------------------------- ----------- 9.3/12.8 MB 7.7 MB/s eta 0:00:01\n",
      "     ----------------------------- ---------- 9.6/12.8 MB 7.7 MB/s eta 0:00:01\n",
      "     ------------------------------ --------- 9.9/12.8 MB 7.6 MB/s eta 0:00:01\n",
      "     ------------------------------- -------- 10.2/12.8 MB 7.6 MB/s eta 0:00:01\n",
      "     --------------------------------- ------ 10.6/12.8 MB 8.3 MB/s eta 0:00:01\n",
      "     --------------------------------- ------ 10.9/12.8 MB 8.1 MB/s eta 0:00:01\n",
      "     ---------------------------------- ----- 11.2/12.8 MB 7.8 MB/s eta 0:00:01\n",
      "     ----------------------------------- ---- 11.5/12.8 MB 7.6 MB/s eta 0:00:01\n",
      "     ------------------------------------ --- 11.8/12.8 MB 7.4 MB/s eta 0:00:01\n",
      "     -------------------------------------- - 12.2/12.8 MB 7.4 MB/s eta 0:00:01\n",
      "     -------------------------------------- - 12.5/12.8 MB 7.2 MB/s eta 0:00:01\n",
      "     ---------------------------------------  12.8/12.8 MB 7.0 MB/s eta 0:00:01\n",
      "     ---------------------------------------  12.8/12.8 MB 7.0 MB/s eta 0:00:01\n",
      "     ---------------------------------------- 12.8/12.8 MB 6.6 MB/s eta 0:00:00\n",
      "Requirement already satisfied: spacy<3.8.0,>=3.7.2 in d:\\statistics\\stats_py\\lib\\site-packages (from en-core-web-sm==3.7.1) (3.7.2)\n",
      "Requirement already satisfied: spacy-legacy<3.1.0,>=3.0.11 in d:\\statistics\\stats_py\\lib\\site-packages (from spacy<3.8.0,>=3.7.2->en-core-web-sm==3.7.1) (3.0.12)\n",
      "Requirement already satisfied: spacy-loggers<2.0.0,>=1.0.0 in d:\\statistics\\stats_py\\lib\\site-packages (from spacy<3.8.0,>=3.7.2->en-core-web-sm==3.7.1) (1.0.4)\n",
      "Requirement already satisfied: murmurhash<1.1.0,>=0.28.0 in d:\\statistics\\stats_py\\lib\\site-packages (from spacy<3.8.0,>=3.7.2->en-core-web-sm==3.7.1) (1.0.7)\n",
      "Requirement already satisfied: cymem<2.1.0,>=2.0.2 in d:\\statistics\\stats_py\\lib\\site-packages (from spacy<3.8.0,>=3.7.2->en-core-web-sm==3.7.1) (2.0.6)\n",
      "Requirement already satisfied: preshed<3.1.0,>=3.0.2 in d:\\statistics\\stats_py\\lib\\site-packages (from spacy<3.8.0,>=3.7.2->en-core-web-sm==3.7.1) (3.0.6)\n",
      "Requirement already satisfied: thinc<8.3.0,>=8.1.8 in d:\\statistics\\stats_py\\lib\\site-packages (from spacy<3.8.0,>=3.7.2->en-core-web-sm==3.7.1) (8.2.2)\n",
      "Requirement already satisfied: wasabi<1.2.0,>=0.9.1 in d:\\statistics\\stats_py\\lib\\site-packages (from spacy<3.8.0,>=3.7.2->en-core-web-sm==3.7.1) (0.9.1)\n",
      "Requirement already satisfied: srsly<3.0.0,>=2.4.3 in d:\\statistics\\stats_py\\lib\\site-packages (from spacy<3.8.0,>=3.7.2->en-core-web-sm==3.7.1) (2.4.8)\n",
      "Requirement already satisfied: catalogue<2.1.0,>=2.0.6 in d:\\statistics\\stats_py\\lib\\site-packages (from spacy<3.8.0,>=3.7.2->en-core-web-sm==3.7.1) (2.0.10)\n",
      "Requirement already satisfied: weasel<0.4.0,>=0.1.0 in d:\\statistics\\stats_py\\lib\\site-packages (from spacy<3.8.0,>=3.7.2->en-core-web-sm==3.7.1) (0.3.4)\n",
      "Requirement already satisfied: typer<0.10.0,>=0.3.0 in d:\\statistics\\stats_py\\lib\\site-packages (from spacy<3.8.0,>=3.7.2->en-core-web-sm==3.7.1) (0.9.0)\n",
      "Requirement already satisfied: smart-open<7.0.0,>=5.2.1 in d:\\statistics\\stats_py\\lib\\site-packages (from spacy<3.8.0,>=3.7.2->en-core-web-sm==3.7.1) (5.2.1)\n",
      "Requirement already satisfied: tqdm<5.0.0,>=4.38.0 in d:\\statistics\\stats_py\\lib\\site-packages (from spacy<3.8.0,>=3.7.2->en-core-web-sm==3.7.1) (4.65.0)\n",
      "Requirement already satisfied: requests<3.0.0,>=2.13.0 in d:\\statistics\\stats_py\\lib\\site-packages (from spacy<3.8.0,>=3.7.2->en-core-web-sm==3.7.1) (2.28.1)\n",
      "Requirement already satisfied: pydantic!=1.8,!=1.8.1,<3.0.0,>=1.7.4 in d:\\statistics\\stats_py\\lib\\site-packages (from spacy<3.8.0,>=3.7.2->en-core-web-sm==3.7.1) (2.5.3)\n",
      "Requirement already satisfied: jinja2 in d:\\statistics\\stats_py\\lib\\site-packages (from spacy<3.8.0,>=3.7.2->en-core-web-sm==3.7.1) (3.1.2)\n",
      "Requirement already satisfied: setuptools in d:\\statistics\\stats_py\\lib\\site-packages (from spacy<3.8.0,>=3.7.2->en-core-web-sm==3.7.1) (68.2.2)\n",
      "Requirement already satisfied: packaging>=20.0 in d:\\statistics\\stats_py\\lib\\site-packages (from spacy<3.8.0,>=3.7.2->en-core-web-sm==3.7.1) (23.1)\n",
      "Requirement already satisfied: langcodes<4.0.0,>=3.2.0 in d:\\statistics\\stats_py\\lib\\site-packages (from spacy<3.8.0,>=3.7.2->en-core-web-sm==3.7.1) (3.3.0)\n",
      "Requirement already satisfied: numpy>=1.19.0 in d:\\statistics\\stats_py\\lib\\site-packages (from spacy<3.8.0,>=3.7.2->en-core-web-sm==3.7.1) (1.26.3)\n",
      "Requirement already satisfied: annotated-types>=0.4.0 in d:\\statistics\\stats_py\\lib\\site-packages (from pydantic!=1.8,!=1.8.1,<3.0.0,>=1.7.4->spacy<3.8.0,>=3.7.2->en-core-web-sm==3.7.1) (0.6.0)\n",
      "Requirement already satisfied: pydantic-core==2.14.6 in d:\\statistics\\stats_py\\lib\\site-packages (from pydantic!=1.8,!=1.8.1,<3.0.0,>=1.7.4->spacy<3.8.0,>=3.7.2->en-core-web-sm==3.7.1) (2.14.6)\n",
      "Requirement already satisfied: typing-extensions>=4.6.1 in d:\\statistics\\stats_py\\lib\\site-packages (from pydantic!=1.8,!=1.8.1,<3.0.0,>=1.7.4->spacy<3.8.0,>=3.7.2->en-core-web-sm==3.7.1) (4.8.0)\n",
      "Requirement already satisfied: charset-normalizer<3,>=2 in d:\\statistics\\stats_py\\lib\\site-packages (from requests<3.0.0,>=2.13.0->spacy<3.8.0,>=3.7.2->en-core-web-sm==3.7.1) (2.0.4)\n",
      "Requirement already satisfied: idna<4,>=2.5 in d:\\statistics\\stats_py\\lib\\site-packages (from requests<3.0.0,>=2.13.0->spacy<3.8.0,>=3.7.2->en-core-web-sm==3.7.1) (3.4)\n",
      "Requirement already satisfied: urllib3<1.27,>=1.21.1 in d:\\statistics\\stats_py\\lib\\site-packages (from requests<3.0.0,>=2.13.0->spacy<3.8.0,>=3.7.2->en-core-web-sm==3.7.1) (1.26.13)\n",
      "Requirement already satisfied: certifi>=2017.4.17 in d:\\statistics\\stats_py\\lib\\site-packages (from requests<3.0.0,>=2.13.0->spacy<3.8.0,>=3.7.2->en-core-web-sm==3.7.1) (2022.12.7)\n",
      "Requirement already satisfied: blis<0.8.0,>=0.7.8 in d:\\statistics\\stats_py\\lib\\site-packages (from thinc<8.3.0,>=8.1.8->spacy<3.8.0,>=3.7.2->en-core-web-sm==3.7.1) (0.7.9)\n",
      "Requirement already satisfied: confection<1.0.0,>=0.0.1 in d:\\statistics\\stats_py\\lib\\site-packages (from thinc<8.3.0,>=8.1.8->spacy<3.8.0,>=3.7.2->en-core-web-sm==3.7.1) (0.1.4)\n",
      "Requirement already satisfied: colorama in d:\\statistics\\stats_py\\lib\\site-packages (from tqdm<5.0.0,>=4.38.0->spacy<3.8.0,>=3.7.2->en-core-web-sm==3.7.1) (0.4.6)\n",
      "Requirement already satisfied: click<9.0.0,>=7.1.1 in d:\\statistics\\stats_py\\lib\\site-packages (from typer<0.10.0,>=0.3.0->spacy<3.8.0,>=3.7.2->en-core-web-sm==3.7.1) (8.1.7)\n",
      "Requirement already satisfied: cloudpathlib<0.17.0,>=0.7.0 in d:\\statistics\\stats_py\\lib\\site-packages (from weasel<0.4.0,>=0.1.0->spacy<3.8.0,>=3.7.2->en-core-web-sm==3.7.1) (0.16.0)\n",
      "Requirement already satisfied: MarkupSafe>=2.0 in d:\\statistics\\stats_py\\lib\\site-packages (from jinja2->spacy<3.8.0,>=3.7.2->en-core-web-sm==3.7.1) (2.1.3)\n",
      "Installing collected packages: en-core-web-sm\n",
      "Successfully installed en-core-web-sm-3.7.1\n",
      "[+] Download and installation successful\n",
      "You can now load the package via spacy.load('en_core_web_sm')\n"
     ]
    }
   ],
   "source": [
    "!python -m spacy download en_core_web_sm"
   ],
   "metadata": {
    "collapsed": false,
    "ExecuteTime": {
     "end_time": "2024-06-04T11:09:07.750099600Z",
     "start_time": "2024-06-04T11:08:41.605887900Z"
    }
   }
  },
  {
   "cell_type": "code",
   "execution_count": null,
   "outputs": [],
   "source": [],
   "metadata": {
    "collapsed": false
   }
  }
 ],
 "metadata": {
  "kernelspec": {
   "display_name": "Python 3",
   "language": "python",
   "name": "python3"
  },
  "language_info": {
   "codemirror_mode": {
    "name": "ipython",
    "version": 2
   },
   "file_extension": ".py",
   "mimetype": "text/x-python",
   "name": "python",
   "nbconvert_exporter": "python",
   "pygments_lexer": "ipython2",
   "version": "2.7.6"
  }
 },
 "nbformat": 4,
 "nbformat_minor": 0
}
